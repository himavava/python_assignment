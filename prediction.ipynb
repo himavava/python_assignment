{
 "cells": [
  {
   "cell_type": "code",
   "execution_count": 9,
   "metadata": {},
   "outputs": [
    {
     "name": "stdout",
     "output_type": "stream",
     "text": [
      "Training set has 159 samples.\n",
      "Testing set has 40 samples.\n"
     ]
    },
    {
     "data": {
      "text/plain": [
       "array([1, 0, 1, 1, 1, 1, 0, 1, 1, 1, 1, 0, 1, 1, 1, 1, 1, 1, 1, 1, 1, 1,\n",
       "       0, 1, 1, 1, 1, 1, 1, 1, 1, 0, 1, 1, 1, 1, 1, 1, 0, 0], dtype=int64)"
      ]
     },
     "execution_count": 9,
     "metadata": {},
     "output_type": "execute_result"
    }
   ],
   "source": [
    "import numpy as np\n",
    "import pandas as pd\n",
    "data_new=pd.read_csv(\"student.csv\")\n",
    "\n",
    "#Extract the essential features from the big dataset\n",
    "new=data_new[['age','Medu','Fedu','traveltime','studytime','failures','famrel','freetime','goout','Dalc','Walc','health','absences','passed']]\n",
    "new\n",
    "predictions=data_new['passed']\n",
    "features_raw = data_new[['age','Medu','Fedu','traveltime','studytime','failures','famrel','freetime','goout','Dalc','Walc','health','absences']]\n",
    "from sklearn.model_selection import train_test_split\n",
    "\n",
    "np.random.seed(1234)\n",
    "\n",
    "X_train, X_test, y_train, y_test = train_test_split(features_raw, predictions, train_size=0.80, random_state=1)\n",
    "\n",
    "\n",
    "# Show the results of the split\n",
    "#dataset splitted into trining and testing samples\n",
    "print \"Training set has {} samples.\".format(X_train.shape[0])\n",
    "print \"Testing set has {} samples.\".format(X_test.shape[0])\n",
    "import sklearn\n",
    "from sklearn import svm\n",
    "\n",
    "C = 1.0\n",
    "svc = svm.SVC(kernel='linear',C=C,gamma=2)\n",
    "svc.fit(X_train, y_train)\n",
    "from sklearn.metrics import fbeta_score\n",
    "predictions_test = svc.predict(X_test)\n",
    "\n",
    "#for printing X_test values \n",
    "#print X_test\n",
    "\n",
    "#for printing Y_test values\n",
    "predictions_test\n",
    "\n",
    "#for accuracy \n",
    "#from sklearn.metrics import accuracy_score\n",
    "#print accuracy_score(y_test, predictions_test)\n",
    "\n"
   ]
  },
  {
   "cell_type": "code",
   "execution_count": null,
   "metadata": {},
   "outputs": [],
   "source": []
  },
  {
   "cell_type": "code",
   "execution_count": null,
   "metadata": {},
   "outputs": [],
   "source": []
  }
 ],
 "metadata": {
  "kernelspec": {
   "display_name": "Python 2",
   "language": "python",
   "name": "python2"
  },
  "language_info": {
   "codemirror_mode": {
    "name": "ipython",
    "version": 2
   },
   "file_extension": ".py",
   "mimetype": "text/x-python",
   "name": "python",
   "nbconvert_exporter": "python",
   "pygments_lexer": "ipython2",
   "version": "2.7.15"
  }
 },
 "nbformat": 4,
 "nbformat_minor": 2
}
